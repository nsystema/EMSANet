{
 "cells": [
  {
   "cell_type": "code",
   "execution_count": 1,
   "metadata": {},
   "outputs": [],
   "source": [
    "import numpy as np\n",
    "import matplotlib.pyplot as plt\n",
    "import pyrealsense2 as rs"
   ]
  },
  {
   "cell_type": "code",
   "execution_count": 2,
   "metadata": {},
   "outputs": [
    {
     "name": "stdout",
     "output_type": "stream",
     "text": [
      "fill percentage:  0.9457851080246914\n",
      "depth range:  0.0 0.20044251\n",
      "depth mean:  0.045202665\n",
      "depth std:  0.016569566\n"
     ]
    }
   ],
   "source": [
    "depth_sample_path = 'samples\\sample_depth.png'\n",
    "\n",
    "# read the image\n",
    "depth = plt.imread(depth_sample_path)\n",
    "# get fill percentage\n",
    "print('fill percentage: ', np.count_nonzero(depth) / depth.size)\n",
    "# get the depth values range\n",
    "print('depth range: ', np.min(depth), np.max(depth))\n",
    "# get mean and std\n",
    "print('depth mean: ', np.mean(depth))\n",
    "print('depth std: ', np.std(depth))"
   ]
  },
  {
   "cell_type": "code",
   "execution_count": 3,
   "metadata": {},
   "outputs": [
    {
     "name": "stdout",
     "output_type": "stream",
     "text": [
      "fill percentage:  0.9525599449685535\n",
      "depth range:  0 9441\n",
      "depth mean:  2197.8116032822327\n",
      "depth std:  757.9485694149948\n"
     ]
    }
   ],
   "source": [
    "# random depth sample from realsense bag file\n",
    "bag_file = 'samples\\d435i_sample_data\\my_room.bag'\n",
    "\n",
    "# Create a pipeline\n",
    "pipeline = rs.pipeline()\n",
    "config = rs.config()\n",
    "config.enable_device_from_file(bag_file)\n",
    "\n",
    "# Start streaming from file\n",
    "pipeline.start(config)\n",
    "\n",
    "# get the depth sensor\n",
    "depth_sensor = pipeline.get_active_profile().get_device().first_depth_sensor()\n",
    "depth_scale = depth_sensor.get_depth_scale()\n",
    "\n",
    "# get the depth frame\n",
    "frames = pipeline.wait_for_frames()\n",
    "depth_frame = frames.get_depth_frame()\n",
    "\n",
    "# get the depth values\n",
    "depth_image = np.asanyarray(depth_frame.get_data())\n",
    "\n",
    "# get fill percentage\n",
    "print('fill percentage: ', np.count_nonzero(depth_image) / depth_image.size)\n",
    "# get the depth values range\n",
    "print('depth range: ', np.min(depth_image), np.max(depth_image))\n",
    "# get mean and std\n",
    "print('depth mean: ', np.mean(depth_image))\n",
    "print('depth std: ', np.std(depth_image))\n",
    "\n"
   ]
  },
  {
   "cell_type": "code",
   "execution_count": null,
   "metadata": {},
   "outputs": [],
   "source": []
  }
 ],
 "metadata": {
  "kernelspec": {
   "display_name": "emsanet",
   "language": "python",
   "name": "python3"
  },
  "language_info": {
   "codemirror_mode": {
    "name": "ipython",
    "version": 3
   },
   "file_extension": ".py",
   "mimetype": "text/x-python",
   "name": "python",
   "nbconvert_exporter": "python",
   "pygments_lexer": "ipython3",
   "version": "3.8.18"
  }
 },
 "nbformat": 4,
 "nbformat_minor": 2
}
